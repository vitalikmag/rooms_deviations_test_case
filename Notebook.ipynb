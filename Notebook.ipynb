{
 "cells": [
  {
   "cell_type": "code",
   "execution_count": null,
   "id": "9ca42cd2",
   "metadata": {},
   "outputs": [],
   "source": [
    "from main import PlotDrawer\n",
    "from IPython.display import Image\n",
    "\n",
    "drawer = PlotDrawer('plots')\n",
    "json_file = 'deviations.json'\n",
    "plot_paths = drawer.draw_plots(json_file)\n",
    "\n",
    "for path in plot_paths:\n",
    "    display(Image(filename=path))"
   ]
  }
 ],
 "metadata": {
  "kernelspec": {
   "display_name": "Python 3 (ipykernel)",
   "language": "python",
   "name": "python3"
  },
  "language_info": {
   "codemirror_mode": {
    "name": "ipython",
    "version": 3
   },
   "file_extension": ".py",
   "mimetype": "text/x-python",
   "name": "python",
   "nbconvert_exporter": "python",
   "pygments_lexer": "ipython3",
   "version": "3.11.2"
  }
 },
 "nbformat": 4,
 "nbformat_minor": 5
}
